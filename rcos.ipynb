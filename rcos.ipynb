{
  "nbformat": 4,
  "nbformat_minor": 0,
  "metadata": {
    "colab": {
      "provenance": [],
      "authorship_tag": "ABX9TyM3MQP/uoGSAiEIVpC13IVc",
      "include_colab_link": true
    },
    "kernelspec": {
      "name": "python3",
      "display_name": "Python 3"
    },
    "language_info": {
      "name": "python"
    }
  },
  "cells": [
    {
      "cell_type": "markdown",
      "metadata": {
        "id": "view-in-github",
        "colab_type": "text"
      },
      "source": [
        "<a href=\"https://colab.research.google.com/github/tenzin-g/Code-Translation-CodeNet/blob/main/rcos.ipynb\" target=\"_parent\"><img src=\"https://colab.research.google.com/assets/colab-badge.svg\" alt=\"Open In Colab\"/></a>"
      ]
    },
    {
      "cell_type": "markdown",
      "source": [
        "`Google Colab notebook to execute scripts for RCOS project Codenet-Translation`\n",
        "\n",
        "> `Anisha and Tenzin`\n",
        "\n",
        "\n",
        "1.   Go to directory /content/rcos/ in runtime terminal\n",
        "2.  "
      ],
      "metadata": {
        "id": "nNtW8qY_owkG"
      }
    },
    {
      "cell_type": "markdown",
      "source": [],
      "metadata": {
        "id": "1zRHjtfPt89p"
      }
    },
    {
      "cell_type": "code",
      "source": [
        "import csv\n",
        "import os\n",
        "import subprocess"
      ],
      "metadata": {
        "id": "IVTB8L3KpBn1"
      },
      "execution_count": null,
      "outputs": []
    },
    {
      "cell_type": "code",
      "source": [
        "#cloning git repo in terminal\n",
        "commands = \"\"\"\n",
        "cd /content/\n",
        "mkdir rcos\n",
        "cd rcos\n",
        "\"\"\"\n",
        "# apt-get install wget\n",
        "# !wget https://repo.continuum.io/miniconda/Miniconda3-4.5.4-Linux-x86_64.sh\n",
        "# !chmod +x Miniconda3-4.5.4-Linux-x86_64.sh\n",
        "# !./Miniconda3-4.5.4-Linux-x86_64.sh -b -f -p /usr/local\n",
        "\n",
        "os.system(commands)\n",
        "\n",
        "installation_commands = [\n",
        "\"cd /content/rcos/\",\\\n",
        "\"pwd\",\\\n",
        "\"apt-get install wget\",\\\n",
        "\"wget https://repo.continuum.io/miniconda/Miniconda3-4.5.4-Linux-x86_64.sh\",\\\n",
        "]\n",
        "\n",
        "for command in installation_commands:\n",
        "  try:\n",
        "    subprocess.run(command, shell=True, check=True, capture_output=True)\n",
        "  except subprocess.CalledProcessError as e:\n",
        "    print(e.returncode)\n",
        "    print(e.stderr)\n",
        "\n",
        "print(\"done\")"
      ],
      "metadata": {
        "colab": {
          "base_uri": "https://localhost:8080/"
        },
        "id": "Fm0eHafMpGKQ",
        "outputId": "dc08b8c7-263b-45cf-d28c-6a9248bf6146"
      },
      "execution_count": null,
      "outputs": [
        {
          "output_type": "stream",
          "name": "stdout",
          "text": [
            "2\n",
            "b\"/bin/sh: 1: cd: can't cd to /blah\\n\"\n",
            "done\n"
          ]
        }
      ]
    },
    {
      "cell_type": "code",
      "source": [
        "try:\n",
        "    subprocess.run(\"cd /blah\", shell=True, check=True, capture_output=True)\n",
        "except subprocess.CalledProcessError as e:\n",
        "    print(e.returncode)\n",
        "    print(e.stderr)\n"
      ],
      "metadata": {
        "colab": {
          "base_uri": "https://localhost:8080/"
        },
        "id": "qPA4ob12Xr8v",
        "outputId": "147554ae-e067-4bcf-e5d9-79377cc426f0"
      },
      "execution_count": null,
      "outputs": [
        {
          "output_type": "stream",
          "name": "stdout",
          "text": [
            "2\n",
            "b\"/bin/sh: 1: cd: can't cd to /blah\\n\"\n"
          ]
        }
      ]
    },
    {
      "cell_type": "markdown",
      "source": [],
      "metadata": {
        "id": "O73MoKwmtNWl"
      }
    }
  ]
}