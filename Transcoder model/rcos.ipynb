{
  "nbformat": 4,
  "nbformat_minor": 0,
  "metadata": {
    "colab": {
      "provenance": []
    },
    "kernelspec": {
      "name": "python3",
      "display_name": "Python 3"
    },
    "language_info": {
      "name": "python"
    }
  },
  "cells": [
    {
      "cell_type": "markdown",
      "source": [
        "`Google Colab notebook to execute scripts for RCOS project Codenet-Translation`\n",
        "\n",
        "> `Anisha and Tenzin`\n",
        "\n",
        "\n",
        "1.   Go to directory /content/rcos/ in runtime terminal\n",
        "2.  "
      ],
      "metadata": {
        "id": "nNtW8qY_owkG"
      }
    },
    {
      "cell_type": "markdown",
      "source": [],
      "metadata": {
        "id": "1zRHjtfPt89p"
      }
    },
    {
      "cell_type": "code",
      "source": [
        "import csv"
      ],
      "metadata": {
        "id": "IVTB8L3KpBn1"
      },
      "execution_count": 1,
      "outputs": []
    },
    {
      "cell_type": "code",
      "source": [
        "with open('/content/tmp') as file:\n",
        "    reader = csv.reader(file, delimiter='\\n')\n",
        "    for row in reader :\n",
        "      print(row)\n"
      ],
      "metadata": {
        "colab": {
          "base_uri": "https://localhost:8080/"
        },
        "id": "Fm0eHafMpGKQ",
        "outputId": "7a9eb8e4-5684-4e0f-e25c-6447726df38a"
      },
      "execution_count": 3,
      "outputs": [
        {
          "output_type": "stream",
          "name": "stdout",
          "text": [
            "['hi']\n",
            "['this is temporary file']\n"
          ]
        }
      ]
    },
    {
      "cell_type": "markdown",
      "source": [],
      "metadata": {
        "id": "O73MoKwmtNWl"
      }
    }
  ]
}