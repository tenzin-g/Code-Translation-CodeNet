{
 "cells": [
  {
   "attachments": {},
   "cell_type": "markdown",
   "metadata": {},
   "source": [
    "Attempt to tokenize a python source code using the ast library"
   ]
  },
  {
   "cell_type": "code",
   "execution_count": 2,
   "metadata": {},
   "outputs": [
    {
     "name": "stdout",
     "output_type": "stream",
     "text": [
      "<ast.Module object at 0x10af46920>\n"
     ]
    }
   ],
   "source": [
    "import ast\n",
    "# Define a Python program to analyze\n",
    "program = '''\n",
    "def square(x):\n",
    "    return x ** 2\n",
    "\n",
    "for i in range(10):\n",
    "    print(square(i))\n",
    "'''"
   ]
  },
  {
   "cell_type": "code",
   "execution_count": 4,
   "metadata": {},
   "outputs": [
    {
     "ename": "AttributeError",
     "evalue": "module 'ast' has no attribute 'Print'",
     "output_type": "error",
     "traceback": [
      "\u001b[0;31m---------------------------------------------------------------------------\u001b[0m",
      "\u001b[0;31mAttributeError\u001b[0m                            Traceback (most recent call last)",
      "Cell \u001b[0;32mIn[4], line 15\u001b[0m\n\u001b[1;32m     12\u001b[0m     \u001b[39mprint\u001b[39m(\u001b[39m'\u001b[39m\u001b[39mFound for loop\u001b[39m\u001b[39m'\u001b[39m)\n\u001b[1;32m     14\u001b[0m \u001b[39m# Extract print statements\u001b[39;00m\n\u001b[0;32m---> 15\u001b[0m \u001b[39mif\u001b[39;00m \u001b[39misinstance\u001b[39m(node, ast\u001b[39m.\u001b[39;49mPrint):\n\u001b[1;32m     16\u001b[0m     \u001b[39mprint\u001b[39m(\u001b[39m'\u001b[39m\u001b[39mFound print statement\u001b[39m\u001b[39m'\u001b[39m)\n",
      "\u001b[0;31mAttributeError\u001b[0m: module 'ast' has no attribute 'Print'"
     ]
    }
   ],
   "source": [
    "\n",
    "# Parse the program and extract the syntax tree\n",
    "tree = ast.parse(program)\n",
    "\n",
    "# Traverse the syntax tree to extract information\n",
    "for node in ast.walk(tree):\n",
    "    # Extract function definitions\n",
    "    if isinstance(node, ast.FunctionDef):\n",
    "        print('Found function definition:', node.name)\n",
    "\n",
    "    # Extract for loops\n",
    "    if isinstance(node, ast.For):\n",
    "        print('Found for loop')\n",
    "\n",
    "    # Extract print statements\n",
    "    if isinstance(node, ast.Print):\n",
    "        print('Found print statement')\n"
   ]
  },
  {
   "attachments": {},
   "cell_type": "markdown",
   "metadata": {},
   "source": [
    "UGH! Fail\n",
    "Can't use AST for tokenization since it creates a complicated tree structure"
   ]
  }
 ],
 "metadata": {
  "kernelspec": {
   "display_name": "Python 3",
   "language": "python",
   "name": "python3"
  },
  "language_info": {
   "codemirror_mode": {
    "name": "ipython",
    "version": 3
   },
   "file_extension": ".py",
   "mimetype": "text/x-python",
   "name": "python",
   "nbconvert_exporter": "python",
   "pygments_lexer": "ipython3",
   "version": "3.10.6"
  },
  "orig_nbformat": 4,
  "vscode": {
   "interpreter": {
    "hash": "5cf590adf64b12f100e2631293f66eedf21812d31d21d345d3dafaac5b13c0f5"
   }
  }
 },
 "nbformat": 4,
 "nbformat_minor": 2
}
