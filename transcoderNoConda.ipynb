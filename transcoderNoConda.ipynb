{
  "nbformat": 4,
  "nbformat_minor": 0,
  "metadata": {
    "colab": {
      "provenance": [],
      "authorship_tag": "ABX9TyMnRDlhbM9I8L6ot4QAXz26"
    },
    "kernelspec": {
      "name": "python3",
      "display_name": "Python 3"
    },
    "language_info": {
      "name": "python"
    },
    "accelerator": "GPU",
    "gpuClass": "standard"
  },
  "cells": [
    {
      "cell_type": "code",
      "execution_count": null,
      "metadata": {
        "id": "CrgNOtjeQF4J"
      },
      "outputs": [],
      "source": [
        "# First clone the git repository for transcoder\n",
        "# in local environment\n",
        "! cd content\n",
        "! git clone https://github.com/facebookresearch/TransCoder transcoder/\n",
        "\n",
        "# Download the model files (link given in official\n",
        "# git repository)\n",
        "! wget https://dl.fbaipublicfiles.com/transcoder/model_1.pth /\n",
        "\n",
        "\n",
        "! pip install torch torchvision\n",
        "! pip install numpy fastBPE Moses Apex libclang clang==6.0.0.2 submitit six sacrebleu==1.2.11\n",
        "\n"
      ]
    },
    {
      "cell_type": "code",
      "source": [
        "# !ls\n",
        "# ! ls /usr/lib/x86_64-linux-gnu/ | grep libclang\n",
        "# ! sudo ln -s libclang-10.so.1 libclang.so"
      ],
      "metadata": {
        "id": "th2eNrwqQ2El"
      },
      "execution_count": null,
      "outputs": []
    },
    {
      "cell_type": "code",
      "source": [
        "# Now we run the translate.py file with following arguments:\n",
        "# src_lang = source language file\n",
        "# tgt_lang = target language file\n",
        "# model_path = path of the model which we downloaded above\n",
        "# > file.java/cpp/py = file which we want to convert\n",
        "# the command below may take some time to run\n",
        "# import clang\n",
        "# clang.cindex.Config.set_library_path(\"/usr/lib/x86_64-linux-gnu/libclang-10.so\")\n",
        "! sudo python transcoder/translate.py - -src_lang java - -tgt_lang python - -model_path model_1.pth > code2.java"
      ],
      "metadata": {
        "colab": {
          "base_uri": "https://localhost:8080/"
        },
        "id": "RlRb-g2kQ1VP",
        "outputId": "3ed04abb-69f7-459d-9398-b55ae642ffd3"
      },
      "execution_count": 2,
      "outputs": [
        {
          "output_type": "stream",
          "name": "stdout",
          "text": [
            "Traceback (most recent call last):\n",
            "  File \"/usr/local/lib/python3.9/dist-packages/clang/cindex.py\", line 4129, in get_cindex_library\n",
            "    library = cdll.LoadLibrary(self.get_filename())\n",
            "  File \"/usr/lib/python3.9/ctypes/__init__.py\", line 452, in LoadLibrary\n",
            "    return self._dlltype(name)\n",
            "  File \"/usr/lib/python3.9/ctypes/__init__.py\", line 374, in __init__\n",
            "    self._handle = _dlopen(self._name, mode)\n",
            "OSError: /usr/lib/llvm-7/lib//libclang.so: cannot open shared object file: No such file or directory\n",
            "\n",
            "During handling of the above exception, another exception occurred:\n",
            "\n",
            "Traceback (most recent call last):\n",
            "  File \"/content/transcoder/translate.py\", line 24, in <module>\n",
            "    import preprocessing.src.code_tokenizer as code_tokenizer\n",
            "  File \"/content/transcoder/preprocessing/src/code_tokenizer.py\", line 29, in <module>\n",
            "    idx = clang.cindex.Index.create()\n",
            "  File \"/usr/local/lib/python3.9/dist-packages/clang/cindex.py\", line 2666, in create\n",
            "    return Index(conf.lib.clang_createIndex(excludeDecls, 0))\n",
            "  File \"/usr/local/lib/python3.9/dist-packages/clang/cindex.py\", line 198, in __get__\n",
            "    value = self.wrapped(instance)\n",
            "  File \"/usr/local/lib/python3.9/dist-packages/clang/cindex.py\", line 4103, in lib\n",
            "    lib = self.get_cindex_library()\n",
            "  File \"/usr/local/lib/python3.9/dist-packages/clang/cindex.py\", line 4134, in get_cindex_library\n",
            "    raise LibclangError(msg)\n",
            "clang.cindex.LibclangError: /usr/lib/llvm-7/lib//libclang.so: cannot open shared object file: No such file or directory. To provide a path to libclang use Config.set_library_path() or Config.set_library_file().\n"
          ]
        }
      ]
    },
    {
      "cell_type": "markdown",
      "source": [
        "After a long time contemplating how to fix the error in this script.... I'm gonna give up. But, I hopefully work on it later in life. I definitely will :)\n",
        "\n",
        "The error is with libclang. The model can't find libclang, so I either need to edit translation.py to hardcode the path to libclang, and I don't have the resources to edit it since this script is running on google colab (and I don't have access to the runtime terminal since my subscription expired).\n",
        "\n",
        "I do know how to fix it though. Possible solutions:\n",
        "\n",
        "\n",
        "1.   Edit translation.py\n",
        "2.   Check version of libclang the model needs, download that\n",
        "3.   create a simbolic link to the current version of libclang (but I doubt this would work)\n",
        "\n"
      ],
      "metadata": {
        "id": "2DTGKu1hoE89"
      }
    }
  ]
}